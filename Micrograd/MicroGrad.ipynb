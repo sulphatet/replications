{
 "cells": [
  {
   "cell_type": "code",
   "execution_count": 1,
   "id": "467d0ebf",
   "metadata": {},
   "outputs": [],
   "source": [
    "import numpy as np\n",
    "import math\n",
    "import matplotlib.pyplot as plt\n",
    "from numpy import random"
   ]
  },
  {
   "cell_type": "code",
   "execution_count": 2,
   "id": "6883d36a",
   "metadata": {},
   "outputs": [],
   "source": [
    "def f(x):\n",
    "    return 3*x**2 + 4*x +2"
   ]
  },
  {
   "cell_type": "code",
   "execution_count": 3,
   "id": "96b49cf2",
   "metadata": {},
   "outputs": [],
   "source": [
    "xs = np.arange(-5,12,0.1)"
   ]
  },
  {
   "cell_type": "code",
   "execution_count": 4,
   "id": "a69e44a9",
   "metadata": {},
   "outputs": [
    {
     "data": {
      "text/plain": [
       "[<matplotlib.lines.Line2D at 0x2397749f310>]"
      ]
     },
     "execution_count": 4,
     "metadata": {},
     "output_type": "execute_result"
    },
    {
     "data": {
      "image/png": "[encoded data removed]",
      "text/plain": [
       "<Figure size 640x480 with 1 Axes>"
      ]
     },
     "metadata": {},
     "output_type": "display_data"
    }
   ],
   "source": [
    "ys = f(xs)\n",
    "plt.plot(xs,ys)"
   ]
  },
  {
   "cell_type": "code",
   "execution_count": 5,
   "id": "ef2c0ac4",
   "metadata": {},
   "outputs": [
    {
     "data": {
      "text/plain": [
       "0.0029999999997532"
      ]
     },
     "execution_count": 5,
     "metadata": {},
     "output_type": "execute_result"
    }
   ],
   "source": [
    "h = 0.001\n",
    "x = -2/3\n",
    "(f(x+h)-f(x))/h"
   ]
  },
  {
   "cell_type": "code",
   "execution_count": 6,
   "id": "5eb3117f",
   "metadata": {},
   "outputs": [
    {
     "name": "stdout",
     "output_type": "stream",
     "text": [
      "-5.0\n",
      "-4.9990000000000006\n",
      "0.9999999999994458\n"
     ]
    }
   ],
   "source": [
    "a = 5.0\n",
    "b = -3.0\n",
    "c = 10.0\n",
    "\n",
    "d1 = a*b+c\n",
    "c += h\n",
    "d2 = a*b + c\n",
    "print(d1)\n",
    "print(d2)\n",
    "print((d2-d1)/h)"
   ]
  },
  {
   "cell_type": "code",
   "execution_count": 7,
   "id": "6856e0c8",
   "metadata": {},
   "outputs": [],
   "source": [
    "class Value:\n",
    "    def __init__(self,data, _children = (), _op = '',label = ''):\n",
    "        self.data = data\n",
    "        self._prev = set(_children)\n",
    "        self._backward = lambda: None\n",
    "        self._op = _op\n",
    "        self.label = label\n",
    "        self.grad = 0.0\n",
    "    \n",
    "    def __repr__(self):\n",
    "        return f'Value: {self.data}'\n",
    "    \n",
    "    def __add__(self, other):\n",
    "        other = other if isinstance(other, Value) else Value(other)\n",
    "        out = Value(self.data + other.data, (self, other), '+')\n",
    "\n",
    "        def _backward():\n",
    "          self.grad += 1.0 * out.grad\n",
    "          other.grad += 1.0 * out.grad\n",
    "        out._backward = _backward\n",
    "\n",
    "        return out\n",
    "    \n",
    "    def __rmul__(self,other):\n",
    "        return self*other\n",
    "    \n",
    "        \n",
    "    def __mul__(self,other):\n",
    "        other = other if isinstance(other,Value) else Value(other)\n",
    "        out = Value(self.data * other.data, (self,other), '*')\n",
    "        def _backward():\n",
    "            self.grad += other.data * out.grad\n",
    "            other.grad += self.data * out.grad\n",
    "        out._backward = _backward\n",
    "        return out\n",
    "    \n",
    "    def exp(self):\n",
    "        #other = other if isinstance(other,Value) else Value(other)\n",
    "        x = self.data\n",
    "        out = Value(math.exp(x), (self, ), 'exp')\n",
    "        def _backward():\n",
    "            self.grad += out.data * out.grad\n",
    "        out._backward = _backward\n",
    "        return out\n",
    "    \n",
    "    def tanh(self):\n",
    "        n = self.data\n",
    "        t = (math.exp(2*n) - 1)/ (math.exp(2*n)+1)\n",
    "        out = Value(t,(self,),'tanh')\n",
    "        def _backward():\n",
    "            self.grad += (1-t**2) * out.grad\n",
    "        out._backward = _backward\n",
    "        return out\n",
    "    \n",
    "    \n",
    "    def __truediv__(self,other):\n",
    "        return self * other**-1\n",
    "    \n",
    "    def __pow__(self, other):\n",
    "        assert isinstance(other, (int, float)), \"only supporting int/float powers for now\"\n",
    "        out = Value(self.data**other, (self,), f'**{other}')\n",
    "\n",
    "        def _backward():\n",
    "            self.grad += other * (self.data ** (other-1)) * out.grad\n",
    "        out._backward = _backward\n",
    "        return out\n",
    "    \n",
    "    def __sub__(self,other):\n",
    "        return self + (-other)\n",
    "\n",
    "    def __radd__(self, other): # other + self\n",
    "        return self + other\n",
    "    \n",
    "    def __neg__(self): # -self\n",
    "        return self * -1\n",
    "\n",
    "    def backward(self):\n",
    "        topo = []\n",
    "        visited = set()\n",
    "        def build_topo(v):\n",
    "            if v not in visited:\n",
    "                visited.add(v)\n",
    "                for child in v._prev:\n",
    "                    build_topo(child)\n",
    "                topo.append(v)\n",
    "        build_topo(self)\n",
    "        \n",
    "        self.grad = 1.0\n",
    "        for node in reversed(topo):\n",
    "            node._backward()\n",
    "        "
   ]
  },
  {
   "cell_type": "code",
   "execution_count": null,
   "id": "bef054ed",
   "metadata": {},
   "outputs": [],
   "source": []
  },
  {
   "cell_type": "code",
   "execution_count": 8,
   "id": "27b5c873",
   "metadata": {},
   "outputs": [
    {
     "data": {
      "text/plain": [
       "Value: 4.0"
      ]
     },
     "execution_count": 8,
     "metadata": {},
     "output_type": "execute_result"
    }
   ],
   "source": [
    "a = Value(2.0)\n",
    "a**2"
   ]
  },
  {
   "cell_type": "code",
   "execution_count": 9,
   "id": "a7e30f5a",
   "metadata": {},
   "outputs": [],
   "source": [
    "a = Value(2.0,label = 'a')\n",
    "b = Value(-6.0,label = 'b')\n",
    "c = Value(-0.5, label = 'c')\n",
    "e = a+b\n",
    "e.label = 'e'\n",
    "d = e*c\n",
    "d.label = 'd'\n",
    "f = Value(2.0)\n",
    "L = d*f\n",
    "#L.data += 50\n",
    "L.tanh()\n",
    "M = L **3\n",
    "#L.grad = 1.0\n",
    "#print(d.grad)\n",
    "#print(L._backward())\n",
    "#print(d.grad)\n",
    "L.backward()"
   ]
  },
  {
   "cell_type": "code",
   "execution_count": 10,
   "id": "40723966",
   "metadata": {},
   "outputs": [
    {
     "name": "stdout",
     "output_type": "stream",
     "text": [
      "-1.0\n"
     ]
    }
   ],
   "source": [
    "print(e.grad)"
   ]
  },
  {
   "cell_type": "code",
   "execution_count": 11,
   "id": "65dd303c",
   "metadata": {},
   "outputs": [
    {
     "name": "stdout",
     "output_type": "stream",
     "text": [
      "{Value: -0.5, Value: -4.0}\n",
      "set()\n"
     ]
    }
   ],
   "source": [
    "for l in L._prev:\n",
    "    print(l._prev)\n",
    "#d._op"
   ]
  },
  {
   "cell_type": "code",
   "execution_count": 12,
   "id": "1c05abf3",
   "metadata": {},
   "outputs": [
    {
     "data": {
      "text/plain": [
       "{Value: 2.0, Value: 2.0}"
      ]
     },
     "execution_count": 12,
     "metadata": {},
     "output_type": "execute_result"
    }
   ],
   "source": [
    "L._prev"
   ]
  },
  {
   "cell_type": "code",
   "execution_count": 13,
   "id": "3b4a8d67",
   "metadata": {},
   "outputs": [],
   "source": [
    "class Neuron:\n",
    "    def __init__(self, nin):\n",
    "        self.w = [Value(random.uniform(-1,1)) for _ in range(nin)]\n",
    "        self.b = Value(random.uniform(-1,1))\n",
    "        \n",
    "    def __call__(self,x):\n",
    "        act = sum(wi*xi for wi,xi in zip(self.w,x)) + self.b\n",
    "        out = act.tanh()\n",
    "        return out\n",
    "    \n",
    "    def parameters(self):\n",
    "        return self.w + [self.b]\n",
    "\n",
    "class Layer:\n",
    "    def __init__(self,nin,nout):\n",
    "        self.Neurons = [Neuron(nin) for _ in range(nout)]\n",
    "        \n",
    "    def __call__(self,x):\n",
    "        outs = [n(x) for n in self.Neurons]\n",
    "        return outs[0] if len(outs) == 1 else outs\n",
    "    \n",
    "    def parameters(self):\n",
    "        return [p for neuron in self.Neurons for p in neuron.parameters()]\n",
    "\n",
    "class MLP:\n",
    "    def __init__(self, nin, nouts):\n",
    "        sz = [nin] + nouts\n",
    "        self.layers = [Layer(sz[i], sz[i+1]) for i in range(len(nouts))]\n",
    "  \n",
    "    def __call__(self, x):\n",
    "        for layer in self.layers:\n",
    "          x = layer(x)\n",
    "        return x\n",
    "  \n",
    "    def parameters(self):\n",
    "        return [p for layer in self.layers for p in layer.parameters()]\n",
    "            "
   ]
  },
  {
   "cell_type": "code",
   "execution_count": 14,
   "id": "af63470d",
   "metadata": {},
   "outputs": [
    {
     "data": {
      "text/plain": [
       "[Value: 0.9997014358212191,\n",
       " Value: -0.9987604611257143,\n",
       " Value: 0.08062370534217955]"
      ]
     },
     "execution_count": 14,
     "metadata": {},
     "output_type": "execute_result"
    }
   ],
   "source": [
    "x = [2.0,3.0]\n",
    "n = Layer(2,3)\n",
    "n(x)"
   ]
  },
  {
   "cell_type": "code",
   "execution_count": 15,
   "id": "73f728b7",
   "metadata": {},
   "outputs": [],
   "source": [
    "n = MLP(3,[4,4,1])\n",
    "\n",
    "xs = [\n",
    "  [2.0, 3.0, -1.0],\n",
    "  [3.0, -1.0, 0.5],\n",
    "  [0.5, 1.0, 1.0],\n",
    "  [1.0, 1.0, -1.0],\n",
    "]\n",
    "ys = [1.0, -1.0, -1.0, 1.0] # desired targets"
   ]
  },
  {
   "cell_type": "code",
   "execution_count": 16,
   "id": "26299171",
   "metadata": {},
   "outputs": [
    {
     "data": {
      "text/plain": [
       "[Value: -0.0689796194251931,\n",
       " Value: 0.11039509103858954,\n",
       " Value: -0.1972949977306704,\n",
       " Value: -0.2362480768312413]"
      ]
     },
     "execution_count": 16,
     "metadata": {},
     "output_type": "execute_result"
    }
   ],
   "source": [
    "ypred = [n(x) for x in xs]\n",
    "ypred"
   ]
  },
  {
   "cell_type": "code",
   "execution_count": 17,
   "id": "868bd30b",
   "metadata": {},
   "outputs": [],
   "source": [
    "ypred = [n(x) for x in xs]\n",
    "loss = sum((yout - ygt)**2 for ygt, yout in zip(ys, ypred))"
   ]
  },
  {
   "cell_type": "code",
   "execution_count": 18,
   "id": "d6a41738",
   "metadata": {},
   "outputs": [
    {
     "data": {
      "text/plain": [
       "Value: 4.548339313086176"
      ]
     },
     "execution_count": 18,
     "metadata": {},
     "output_type": "execute_result"
    }
   ],
   "source": [
    "loss"
   ]
  },
  {
   "cell_type": "code",
   "execution_count": 19,
   "id": "0f72f649",
   "metadata": {},
   "outputs": [
    {
     "name": "stdout",
     "output_type": "stream",
     "text": [
      "0 4.548339313086176\n",
      "1 2.8663029910650155\n",
      "2 3.1614171192208698\n",
      "3 3.0861692683678568\n",
      "4 1.040224788311145\n",
      "5 0.3188138158140119\n",
      "6 0.05061364547249195\n",
      "7 0.04295484856172181\n",
      "8 0.03761410598386887\n",
      "9 0.033583132266706596\n",
      "10 0.03038896118415685\n",
      "11 0.02777467776152539\n",
      "12 0.025585273012244406\n",
      "13 0.02371976448580608\n",
      "14 0.02210852064244136\n",
      "15 0.02070142858327375\n",
      "16 0.01946121475751947\n",
      "17 0.018359425458183986\n",
      "18 0.01737387872003195\n",
      "19 0.016486978925975972\n"
     ]
    }
   ],
   "source": [
    "for k in range(20):\n",
    "  \n",
    "  # forward pass\n",
    "  ypred = [n(x) for x in xs]\n",
    "  loss = sum((yout - ygt)**2 for ygt, yout in zip(ys, ypred))\n",
    "  \n",
    "  # backward pass\n",
    "  for p in n.parameters():\n",
    "    p.grad = 0.0\n",
    "  loss.backward()\n",
    "  \n",
    "  # update\n",
    "  for p in n.parameters():\n",
    "    p.data += -0.1 * p.grad\n",
    "  \n",
    "  print(k, loss.data)"
   ]
  },
  {
   "cell_type": "code",
   "execution_count": null,
   "id": "c6729b51",
   "metadata": {},
   "outputs": [],
   "source": []
  },
  {
   "cell_type": "code",
   "execution_count": null,
   "id": "94b88d1d",
   "metadata": {},
   "outputs": [],
   "source": []
  }
 ],
 "metadata": {
  "kernelspec": {
   "display_name": "Python 3 (ipykernel)",
   "language": "python",
   "name": "python3"
  },
  "language_info": {
   "codemirror_mode": {
    "name": "ipython",
    "version": 3
   },
   "file_extension": ".py",
   "mimetype": "text/x-python",
   "name": "python",
   "nbconvert_exporter": "python",
   "pygments_lexer": "ipython3",
   "version": "3.8.13"
  }
 },
 "nbformat": 4,
 "nbformat_minor": 5
}
